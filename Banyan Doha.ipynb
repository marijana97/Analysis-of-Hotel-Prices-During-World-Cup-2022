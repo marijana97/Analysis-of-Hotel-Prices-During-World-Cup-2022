{
 "cells": [
  {
   "cell_type": "markdown",
   "id": "9172d1e4",
   "metadata": {},
   "source": [
    "# Analysis Of Hotel Prices During World Cup 2022\n",
    "#### The hotel prices of Banyan Tree Doha at La Cigale Mushaireb from November 20th to December 23rd \n"
   ]
  },
  {
   "cell_type": "markdown",
   "id": "1df73559",
   "metadata": {},
   "source": [
    "**The 2022 FIFA World Cup** was an international football tournament played from **November 20th to December 18th, 2022 in Qatar**. Qatar was visited by about *1.5 million tourists*, and hotel companies took advantage of this. Due to the increased demand for accommodation, hotel companies increased their **accommodation prices**. \n",
    "\n",
    "On the example of *Banyan Tree Doha At La Cigale Mushaireb in Doha*, we will analyze the room prices in the period **from November 18th to December 23th**. The collected prices refer to accommodation for *two people with breakfast*. Prices are shown in euros. The hotel has *2 types of standard rooms, 4 types of suite and 5 types of residence*. In this analysis, data was collected for only **5 categories of rooms**, 2 standard rooms and 3 apartments:\n",
    "\n",
    "- Urban Retreat (Standard Room)\n",
    "- Serenity Retreat (Standard Room)\n",
    "- Urban Suite (Suite)\n",
    "- Serenity Club Suite (Suite)\n",
    "- Harmony Horizon Club Suite (Suite)\n",
    "\n",
    "It should be noted that there are many **missing values**. Missing values in this analysis mean that that room category was **not available** for booking on a certain day and therefore the price was not displayed. The percentage of missing values for each room category is between *33% and 50%* of entire values in a column. In this analysis we will try to **fill in all missing values** with the *estimated prices* that we will get based on prices from other room categories that don't have missing values."
   ]
  },
  {
   "cell_type": "markdown",
   "id": "78eecd6f",
   "metadata": {},
   "source": [
    "# Imports and Understanding Data"
   ]
  },
  {
   "cell_type": "code",
   "execution_count": 1,
   "id": "0d361c50",
   "metadata": {},
   "outputs": [],
   "source": [
    "import pandas as pd\n",
    "import numpy as np\n",
    "import seaborn as sns\n",
    "import matplotlib.pyplot as plt"
   ]
  },
  {
   "cell_type": "code",
   "execution_count": 2,
   "id": "4250e199",
   "metadata": {},
   "outputs": [
    {
     "data": {
      "text/plain": [
       "Urban Retreat                 44.444444\n",
       "Serenity Retreat              50.000000\n",
       "Urban Suite                   33.333333\n",
       "Serenity Club Suite           36.111111\n",
       "Harmony Horizon Club Suite    44.444444\n",
       "dtype: float64"
      ]
     },
     "execution_count": 2,
     "metadata": {},
     "output_type": "execute_result"
    }
   ],
   "source": [
    "banyan_tree = pd.read_excel('BANYAN TREE DOHA AT LA CIGALE MUSHAIREB.xlsx', parse_dates=True, index_col=[0], sheet_name='Sheet2')\n",
    "#banyan_tree.head()\n",
    "#banyan_tree.describe()\n",
    "banyan_tree.isna().mean()*100"
   ]
  },
  {
   "cell_type": "markdown",
   "id": "fea8739e",
   "metadata": {},
   "source": [
    "# Getting The Percentage Change"
   ]
  },
  {
   "cell_type": "markdown",
   "id": "ce18f19b",
   "metadata": {},
   "source": [
    "We will calculate the *percentage change* in prices for each category. The hotel increased/decreased its prices by the **same percentage**. For example, if one category increased by 5%, the other categories also increased by 5% and vice versa. \n",
    "\n",
    "Rows in which **all room categories** have a missing value, we will assume that they have the same value as in the **previous day**, because we cannot calculate the percentage change. Only for **standard rooms** we will leave a **missing value** on **December, 18th** because they have a missing value even the day before. December 18th was the **final night** of the World Cup and the prices were much higher that day, so we will calculate it later in analysis. \n",
    "\n",
    "After calculating the percentage change for each category, we will create a column *average* where we are going to calculate the **average percentage change** that applies to all categories. With the values in the column *average*, we will fill in missing values in the columns where we calculated percentage changes for each category."
   ]
  },
  {
   "cell_type": "code",
   "execution_count": 3,
   "id": "2f90e715",
   "metadata": {},
   "outputs": [],
   "source": [
    "banyan_tree = banyan_tree.rename(columns = lambda cols: cols.replace(' ', '_'))"
   ]
  },
  {
   "cell_type": "code",
   "execution_count": 4,
   "id": "fcb862e3",
   "metadata": {},
   "outputs": [],
   "source": [
    "# creating new dataframe to fill in missing values in rows where all values are missing\n",
    "nan_rows = banyan_tree.apply(lambda x: x.fillna(method='ffill')).where(banyan_tree.isnull().all(axis=1))\n",
    "\n",
    "nan_rows.loc['2022-12-18', 'Urban_Retreat'] = np.nan\n",
    "nan_rows.loc['2022-12-18', 'Serenity_Retreat'] = np.nan"
   ]
  },
  {
   "cell_type": "code",
   "execution_count": 5,
   "id": "2a9e6465",
   "metadata": {},
   "outputs": [],
   "source": [
    "# filling in missing values\n",
    "def ffill_rows(banyan_tree):\n",
    "    return (banyan_tree\n",
    " .assign(Urban_Retreat = banyan_tree.Urban_Retreat.fillna(nan_rows.Urban_Retreat),\n",
    "         Serenity_Retreat = banyan_tree.Serenity_Retreat.fillna(nan_rows.Serenity_Retreat),\n",
    "         Urban_Suite = banyan_tree.Urban_Suite.fillna(nan_rows.Urban_Suite),\n",
    "         Serenity_Club_Suite = banyan_tree.Serenity_Club_Suite.fillna(nan_rows.Serenity_Club_Suite),\n",
    "         Harmony_Horizon_Club_Suite = banyan_tree.Harmony_Horizon_Club_Suite.fillna(nan_rows.Harmony_Horizon_Club_Suite)\n",
    " )\n",
    ")\n",
    "\n",
    "banyan = ffill_rows(banyan_tree)"
   ]
  },
  {
   "cell_type": "code",
   "execution_count": 6,
   "id": "70ccc527",
   "metadata": {},
   "outputs": [],
   "source": [
    "# creating columns with percentage change for each room category\n",
    "def get_pctchange(banyan):\n",
    "    return banyan.pct_change(axis=0, fill_method=None)\n",
    "\n",
    "banyan[['Urban0', 'Serenity0', 'Urban_Suite0', 'Serenity_Suite0', 'Harmony0']] = banyan.apply(lambda x: get_pctchange(x))"
   ]
  },
  {
   "cell_type": "code",
   "execution_count": 7,
   "id": "f4413b92",
   "metadata": {},
   "outputs": [],
   "source": [
    "# getting the average percentage change\n",
    "banyan['average'] = banyan.iloc[:, 5:].mean(axis=1)\n",
    "\n",
    "banyan[['Urban0', 'Serenity0', 'Urban_Suite0', 'Serenity_Suite0', 'Harmony0']] =  \\\n",
    "        banyan[['Urban0', 'Serenity0', 'Urban_Suite0', 'Serenity_Suite0', 'Harmony0']].T \\\n",
    "        .fillna(banyan['average']) \\\n",
    "        .T"
   ]
  },
  {
   "cell_type": "markdown",
   "id": "3ce69ea2",
   "metadata": {},
   "source": [
    "# Filling In The Missing Values"
   ]
  },
  {
   "cell_type": "markdown",
   "id": "5a558011",
   "metadata": {},
   "source": [
    "In this part we will create a function to calculate room prices where they are missing. With the calculated percentage change we can calculate the **original price**. For example, if we know that a number has increased by 50% to obtain 60. We can calculate original number as follows:\n",
    "\n",
    "*50 + 100 = 150*\n",
    "\n",
    "*original_number = 100/150*60 = 40*\n",
    "\n",
    "The same principles will be applied in the function. In the function we wiil pass the original column that has missing values, then the new empty column that we created and the column that contains the percentage change. The function will calculate the room price in three ways given that there are three possibilities:\n",
    "\n",
    "- if the original column has a missing value: the previous value from the column we created * the percentage of change for that day + add it to the previous value from the column we created\n",
    "\n",
    "\n",
    "- if the column we created has missing value: we will apply the formula we used in the example above\n",
    "\n",
    "\n",
    "- if they do not have a missing value - previous value from the original column * percentage of change on that day + previous value from the original column\n",
    "\n",
    "**On November 25th and 26th**, all categories have a missing value except **Harmony Horizon Club Suite**. Therefore, we will first apply the function to Harmony Horizon Club Suite to get the percentage change for these dates, and then we will apply the function to the other categories as well."
   ]
  },
  {
   "cell_type": "code",
   "execution_count": 8,
   "id": "af7705ba",
   "metadata": {},
   "outputs": [],
   "source": [
    "#Finding the original number from a percentage increase/decrease\n",
    "\n",
    "banyan[['CalRates_UR', 'CalRates_SR', 'CalRates_US', 'CalRates_SCS', 'CalRates_HHCS']] = '', '', '', '', ''\n",
    "\n",
    "def fill_nan_rows(col, feature, label):\n",
    "    for i in range(len(banyan)):\n",
    "        if np.isnan(banyan[col][i-1]):\n",
    "            banyan[feature].values[i] = (banyan[feature][i-1]*banyan[label][i]) + banyan[feature][i-1]\n",
    "            if np.isnan(banyan[feature][i-1]):\n",
    "                banyan[feature].values[i] = (100/(banyan[label][i+1]*100+100)) * banyan[col][i+1]\n",
    "        else:\n",
    "            banyan[feature].values[i] = (banyan[col][i-1]*banyan[label][i]) + banyan[col][i-1]\n",
    "            \n",
    "fill_nan_rows('Harmony_Horizon_Club_Suite', 'CalRates_HHCS', 'Harmony0')"
   ]
  },
  {
   "cell_type": "code",
   "execution_count": 9,
   "id": "8ebaf265",
   "metadata": {},
   "outputs": [],
   "source": [
    "#applying function to Harmony Horizon Club Suite\n",
    "\n",
    "banyan.Harmony_Horizon_Club_Suite = banyan.Harmony_Horizon_Club_Suite.fillna(banyan.CalRates_HHCS)"
   ]
  },
  {
   "cell_type": "code",
   "execution_count": 10,
   "id": "088c5be8",
   "metadata": {},
   "outputs": [],
   "source": [
    "# getting percentage change for November 25th and 26th\n",
    "\n",
    "V1 = 5765.937539\n",
    "V2 = 4799.080000\n",
    "\n",
    "banyan.loc['2022-11-25', ['Urban0',\n",
    "       'Serenity0', 'Urban_Suite0', 'Serenity_Suite0', 'Harmony0', 'average']] = (V2 - V1)/V1 "
   ]
  },
  {
   "cell_type": "code",
   "execution_count": 11,
   "id": "544eeb19",
   "metadata": {},
   "outputs": [],
   "source": [
    "#applying function to all categories\n",
    "\n",
    "fill_nan_rows('Urban_Retreat', 'CalRates_UR', 'Urban0')\n",
    "fill_nan_rows('Serenity_Retreat', 'CalRates_SR', 'Serenity0')\n",
    "fill_nan_rows('Urban_Suite', 'CalRates_US', 'Urban_Suite0')\n",
    "fill_nan_rows('Serenity_Club_Suite', 'CalRates_SCS', 'Serenity_Suite0')"
   ]
  },
  {
   "cell_type": "code",
   "execution_count": 12,
   "id": "2fd9aa5c",
   "metadata": {},
   "outputs": [],
   "source": [
    "#filling in missing values and dropping unnecessary columns\n",
    "\n",
    "banyan = (banyan\n",
    " .assign(Urban_Retreat = banyan.Urban_Retreat.fillna(banyan.CalRates_UR).round(2),\n",
    "         Serenity_Retreat = banyan.Serenity_Retreat.fillna(banyan.CalRates_SR).round(2),\n",
    "         Urban_Suite = banyan.Urban_Suite.fillna(banyan.CalRates_US).round(2),\n",
    "         Serenity_Club_Suite = banyan.Serenity_Club_Suite.fillna(banyan.CalRates_SCS).round(2),\n",
    "         average = banyan.average.round(4) * 100\n",
    ")\n",
    " .drop(['CalRates_UR', 'CalRates_SR', 'CalRates_US', 'CalRates_SCS', 'CalRates_HHCS', \n",
    "       'Urban0', 'Serenity0', 'Urban_Suite0', 'Serenity_Suite0', 'Harmony0'], axis=1)\n",
    ")"
   ]
  },
  {
   "cell_type": "code",
   "execution_count": 13,
   "id": "60012db4",
   "metadata": {},
   "outputs": [
    {
     "data": {
      "text/plain": [
       "Urban_Retreat                 0\n",
       "Serenity_Retreat              0\n",
       "Urban_Suite                   0\n",
       "Serenity_Club_Suite           0\n",
       "Harmony_Horizon_Club_Suite    0\n",
       "average                       1\n",
       "dtype: int64"
      ]
     },
     "execution_count": 13,
     "metadata": {},
     "output_type": "execute_result"
    }
   ],
   "source": [
    "# first row in average column has to be a missing value\n",
    "banyan.isna().sum()"
   ]
  },
  {
   "cell_type": "code",
   "execution_count": 14,
   "id": "3e1debe9",
   "metadata": {},
   "outputs": [],
   "source": [
    "#banyan.to_excel('BANYAN.xlsx')"
   ]
  },
  {
   "cell_type": "markdown",
   "id": "43506cb3",
   "metadata": {},
   "source": [
    "# Data Visualization"
   ]
  },
  {
   "cell_type": "code",
   "execution_count": 15,
   "id": "d1f14536",
   "metadata": {},
   "outputs": [],
   "source": [
    "df_grouped = banyan.reset_index().melt(id_vars=['Date', 'average'], var_name='Category', value_name='Price')"
   ]
  },
  {
   "cell_type": "code",
   "execution_count": 16,
   "id": "a8dfe1a9",
   "metadata": {},
   "outputs": [
    {
     "data": {
      "image/png": "[encoded data removed]",
      "text/plain": [
       "<Figure size 576x432 with 1 Axes>"
      ]
     },
     "metadata": {
      "needs_background": "light"
     },
     "output_type": "display_data"
    }
   ],
   "source": [
    "plt.figure(figsize=(8,6))\n",
    "sns.barplot(data=df_grouped, x='Date', y='average') \\\n",
    "    .set(xticks=[2, 7, 20, 31], xticklabels=['20-11-2022', '25-11-2022', '08-12-2022', '19-12-2022'])\n",
    "plt.title('Average Percentage Increase/Decrease in Price');"
   ]
  },
  {
   "cell_type": "code",
   "execution_count": 17,
   "id": "5771b133",
   "metadata": {},
   "outputs": [
    {
     "data": {
      "image/png": "[encoded data removed]",
      "text/plain": [
       "<Figure size 432x288 with 1 Axes>"
      ]
     },
     "metadata": {
      "needs_background": "light"
     },
     "output_type": "display_data"
    }
   ],
   "source": [
    "df_mean = pd.DataFrame(df_grouped.groupby([pd.Grouper(key='Date', freq='W'), \n",
    "                                           pd.Grouper('Category')])['Price'].mean()).reset_index()\n",
    "\n",
    "df_mean['Week Number'] = df_mean.Date.dt.isocalendar().week\n",
    "\n",
    "dic2 = {46:'1', 47:'2', 48:'3', 49:4, 50:'5', 51:'6'}\n",
    "df_mean = df_mean.replace({'Week Number': dic2})\n",
    "\n",
    "sns.lineplot(data=df_mean, x='Week Number', y='Price', hue='Category')\n",
    "plt.legend(bbox_to_anchor=(1.05, 1), loc=2, borderaxespad=0)\n",
    "plt.title('Rooms Prices Through Weeks');"
   ]
  }
 ],
 "metadata": {
  "kernelspec": {
   "display_name": "Python 3 (ipykernel)",
   "language": "python",
   "name": "python3"
  },
  "language_info": {
   "codemirror_mode": {
    "name": "ipython",
    "version": 3
   },
   "file_extension": ".py",
   "mimetype": "text/x-python",
   "name": "python",
   "nbconvert_exporter": "python",
   "pygments_lexer": "ipython3",
   "version": "3.9.12"
  }
 },
 "nbformat": 4,
 "nbformat_minor": 5
}
